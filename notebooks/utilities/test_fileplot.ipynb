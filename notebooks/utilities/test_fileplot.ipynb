{
 "cells": [
  {
   "cell_type": "code",
   "execution_count": null,
   "metadata": {},
   "outputs": [],
   "source": [
    "%matplotlib inline\n",
    "from fenics import *\n",
    "parameters[\"plotting_backend\"] = 'matplotlib'\n",
    "import pylab"
   ]
  },
  {
   "cell_type": "code",
   "execution_count": null,
   "metadata": {},
   "outputs": [],
   "source": [
    "\n",
    "\n",
    "from fileplot import plot\n",
    "\n",
    "def test_fileplot():\n",
    "pylab.show()\n",
    "    mesh = UnitSquareMesh(10, 10)\n",
    "    plot(mesh, title=\"mesh\")\n",
    "    pylab.show()\n",
    "    V = FunctionSpace(mesh, \"Lagrange\", 1)\n",
    "    V2 = FunctionSpace(mesh, \"Lagrange\", 2)\n",
    "    W = VectorFunctionSpace(mesh, \"Lagrange\", 1)\n",
    "\n",
    "    f = Function(V)\n",
    "    f.interpolate(Expression(\"x[0]*x[0]*x[0]\"))\n",
    "    plot(f, title=\"f\")\n",
    "    pylab.show()\n",
    "\n",
    "    u = Function(V2, name=\"u\")\n",
    "    u.interpolate(Expression(\"x[0]*x[0]*x[0]\"))\n",
    "    plot(u)\n",
    "    pylab.show()\n",
    "\n",
    "    g = f**2\n",
    "    plot(g, title=\"g\")\n",
    "    pylab.show()\n",
    "\n",
    "    plot(1.0, title=\"one\", mesh=mesh)\n",
    "    pylab.show()\n",
    "\n",
    "    w = Function(W)\n",
    "    w.interpolate(Expression((\"sin(2.0*DOLFIN_PI*x[0])\", \"cos(2.0*DOLFIN_PI*x[1])\")))\n",
    "    plot(w, title='w')\n",
    "\n",
    "    plot(grad(g), title='grad_g')\n",
    "\n",
    "if __name__ == \"__main__\":\n",
    "    test_fileplot()\n"
   ]
  }
 ],
 "metadata": {},
 "nbformat": 4,
 "nbformat_minor": 0
}
