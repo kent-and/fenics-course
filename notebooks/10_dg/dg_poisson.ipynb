{
 "cells": [
  {
   "cell_type": "code",
   "execution_count": null,
   "metadata": {},
   "outputs": [],
   "source": [
    "%matplotlib inline\n",
    "from fenics import *\n",
    "parameters[\"plotting_backend\"] = 'matplotlib'\n",
    "import pylab"
   ]
  },
  {
   "cell_type": "code",
   "execution_count": null,
   "metadata": {},
   "outputs": [],
   "source": [
    "\n",
    "\n",
    "n = 32\n",
    "mesh = UnitSquareMesh(n, n)\n",
    "n = FacetNormal(mesh)\n",
    "h = avg(mesh.hmin())\n",
    "\n",
    "V = FunctionSpace(mesh, \"DG\", 0)\n",
    "u = TrialFunction(V)\n",
    "v = TestFunction(V)\n",
    "\n",
    "alpha = Constant(10.0)\n",
    "f = Constant(1.0)\n",
    "\n",
    "a_K = inner(grad(u), grad(v))*dx\n",
    "a_int = (- inner(avg(grad(u)), jump(v, n)) - inner(jump(u, n), avg(grad(v)))\n",
    "         + alpha/h*dot(jump(u, n), jump(v, n)))*dS\n",
    "a_ext = (- inner(dot(grad(u), n), v) - inner(dot(grad(v), n), u)\n",
    "         + alpha/h*u*v)*ds\n",
    "\n",
    "a = a_K + a_int + a_ext\n",
    "L = f*v*dx\n",
    "\n",
    "u = Function(V)\n",
    "solve(a == L, u)\n",
    "plot(u)\n",
    "pylab.show()\n"
   ]
  }
 ],
 "metadata": {},
 "nbformat": 4,
 "nbformat_minor": 0
}
