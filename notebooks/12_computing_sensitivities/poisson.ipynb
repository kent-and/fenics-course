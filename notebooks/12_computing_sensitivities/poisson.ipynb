{
 "cells": [
  {
   "cell_type": "code",
   "execution_count": null,
   "metadata": {},
   "outputs": [],
   "source": [
    "%matplotlib inline\n",
    "from fenics import *\n",
    "parameters[\"plotting_backend\"] = 'matplotlib'"
   ]
  },
  {
   "cell_type": "code",
   "execution_count": null,
   "metadata": {},
   "outputs": [],
   "source": [
    "from __future__ import print_function\n",
    "\n",
    "\n",
    "# Define discrete Functionspace\n",
    "mesh = UnitSquareMesh(50, 50)\n",
    "V = FunctionSpace(mesh, \"Lagrange\", 1)\n",
    "\n",
    "# Define Functions\n",
    "u = TrialFunction(V)\n",
    "v = TestFunction(V)\n",
    "s = Function(V)                             # PDE solution\n",
    "lmbd = Function(V)                          # Adjoint PDE solution\n",
    "m = interpolate(Constant(1), V)             # Control parameter\n",
    "ud = Expression(\"sin(pi*x[0])\", degree=4)   # Desired temperature profile\n",
    "\n",
    "# Define variational problem\n",
    "a = inner(grad(u), grad(v))*dx\n",
    "L = m*v*dx\n",
    "\n",
    "bcs = DirichletBC(V, 0.0, \"on_boundary\")\n",
    "\n",
    "# Solve Poisson problem\n",
    "solve(a == L, s, bcs)\n",
    "\n",
    "print(\"J = %.2f\" % assemble((s-ud)**2*dx))\n"
   ]
  }
 ],
 "metadata": {},
 "nbformat": 4,
 "nbformat_minor": 0
}
