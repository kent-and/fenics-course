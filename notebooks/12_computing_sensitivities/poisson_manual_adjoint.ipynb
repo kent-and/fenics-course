{
 "cells": [
  {
   "cell_type": "code",
   "execution_count": null,
   "metadata": {},
   "outputs": [],
   "source": [
    "%matplotlib inline\n",
    "from fenics import *\n",
    "parameters[\"plotting_backend\"] = 'matplotlib'\n",
    "import pylab"
   ]
  },
  {
   "cell_type": "code",
   "execution_count": null,
   "metadata": {},
   "outputs": [],
   "source": [
    "\n",
    "\n",
    "# Define discrete Functionspace\n",
    "mesh = UnitSquareMesh(50, 50)\n",
    "V = FunctionSpace(mesh, \"Lagrange\", 1)\n",
    "\n",
    "# Define Functions\n",
    "u = TrialFunction(V)\n",
    "v = TestFunction(V)\n",
    "s = Function(V)                             # PDE solution\n",
    "lmbd = Function(V)                          # Adjoint PDE solution\n",
    "m = interpolate(Constant(1), V)             # Control parameter\n",
    "ud = Expression(\"sin(pi*x[0])\", degree=4)   # Desired temperature profile\n",
    "\n",
    "# Define variational problem\n",
    "a = inner(grad(u), grad(v))*dx\n",
    "L = m*v*dx\n",
    "\n",
    "bcs = DirichletBC(V, 0.0, \"on_boundary\")\n",
    "\n",
    "# Solve Poisson problem\n",
    "solve(a == L, s, bcs)\n",
    "\n",
    "# Define the adjoint PDE\n",
    "a = inner(grad(u), grad(v))*dx\n",
    "L = -(s-ud)*v*dx\n",
    "\n",
    "# Solve adjoint problem\n",
    "solve(a == L, lmbd, bcs)\n",
    "\n",
    "# Compute the derivative from the adjoint solution\n",
    "dJdm = -lmbd\n",
    "\n",
    "plot(dJdm)\n",
    "pylab.show()\n",
    "interactive()\n"
   ]
  }
 ],
 "metadata": {},
 "nbformat": 4,
 "nbformat_minor": 0
}
