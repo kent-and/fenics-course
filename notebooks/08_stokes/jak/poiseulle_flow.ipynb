{
 "cells": [
  {
   "cell_type": "code",
   "execution_count": null,
   "metadata": {},
   "outputs": [],
   "source": [
    "%matplotlib inline\n",
    "from fenics import *\n",
    "parameters[\"plotting_backend\"] = 'matplotlib'\n",
    "import pylab"
   ]
  },
  {
   "cell_type": "code",
   "execution_count": null,
   "metadata": {},
   "outputs": [],
   "source": [
    "\n",
    "\n",
    "# Create mesh\n",
    "mesh  = UnitSquareMesh(30, 30)\n",
    "\n",
    "# Create function space\n",
    "Vele = VectorElement(\"Lagrange\", triangle, 2)\n",
    "Pele = FiniteElement(\"Lagrange\", triangle, 1)\n",
    "W = FunctionSpace(mesh, MixedElement([Vele, Pele]))\n",
    "\n",
    "# Create boundary conditions\n",
    "def noslip_boundary(x):\n",
    "    return near(x[1], 0.0) or near(x[1], 1.0)\n",
    "\n",
    "def inflow_boundary(x):\n",
    "    return near(x[0], 0.0)\n",
    "\n",
    "def outflow_boundary(x):\n",
    "    return near(x[0], 1.0)\n",
    "\n",
    "bcs = [DirichletBC(W.sub(0), (0, 0), noslip_boundary),\n",
    "       DirichletBC(W.sub(1),  1,     inflow_boundary),\n",
    "       DirichletBC(W.sub(1),  0,     outflow_boundary)]\n",
    "\n",
    "# Create forms\n",
    "f    = Constant((0, 0))\n",
    "u, p = TrialFunctions(W)\n",
    "v, q = TestFunctions(W)\n",
    "a    = inner(grad(u), grad(v))*dx + dot(grad(p), v)*dx + div(u)*q*dx\n",
    "L    = dot(f, v)*dx\n",
    "\n",
    "# Compute solution\n",
    "w = Function(W)\n",
    "solve(a == L, w,bcs)\n",
    "\n",
    "# Plot solution\n",
    "u, p = w.split()\n",
    "plot(u, title=\"u\")\n",
    "pylab.show()\n",
    "plot(p, title=\"p\")\n",
    "pylab.show()\n",
    "interactive()\n"
   ]
  }
 ],
 "metadata": {},
 "nbformat": 4,
 "nbformat_minor": 0
}
