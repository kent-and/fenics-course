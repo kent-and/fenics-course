{
 "cells": [
  {
   "cell_type": "code",
   "execution_count": null,
   "metadata": {},
   "outputs": [],
   "source": [
    "%matplotlib inline\n",
    "from fenics import *\n",
    "parameters[\"plotting_backend\"] = 'matplotlib'\n",
    "import pylab"
   ]
  },
  {
   "cell_type": "code",
   "execution_count": null,
   "metadata": {},
   "outputs": [],
   "source": [
    "\n",
    "\n",
    "n = 30\n",
    "mesh = UnitSquareMesh(n, n)\n",
    "V = VectorFunctionSpace(mesh, \"Lagrange\", 2)\n",
    "\n",
    "ic = Expression((\"sin(2*pi*x[0])\", \"cos(2*pi*x[1])\"), degree=4)\n",
    "u = project(ic, V)\n",
    "u_next = Function(V)\n",
    "v = TestFunction(V)\n",
    "\n",
    "nu = Constant(0.0001)\n",
    "\n",
    "timestep = Constant(0.01)\n",
    "\n",
    "F = (inner((u_next - u)/timestep, v)\n",
    "     + inner(grad(u_next)*u_next, v)\n",
    "     + nu*inner(grad(u_next), grad(v)))*dx\n",
    "\n",
    "bc = DirichletBC(V, (0.0, 0.0), \"on_boundary\")\n",
    "\n",
    "t = 0.0\n",
    "end = 0.1\n",
    "while (t <= end):\n",
    "    solve(F == 0, u_next, bc)\n",
    "    plot(u_next)\n",
    "    pylab.show()\n",
    "    u.assign(u_next)\n",
    "    t += float(timestep)\n",
    "\n",
    "interactive()\n"
   ]
  }
 ],
 "metadata": {},
 "nbformat": 4,
 "nbformat_minor": 0
}
