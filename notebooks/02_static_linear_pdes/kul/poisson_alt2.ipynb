{
 "cells": [
  {
   "cell_type": "code",
   "execution_count": null,
   "metadata": {},
   "outputs": [],
   "source": [
    "%matplotlib inline\n",
    "from fenics import *\n",
    "parameters[\"plotting_backend\"] = 'matplotlib'\n",
    "import pylab"
   ]
  },
  {
   "cell_type": "code",
   "execution_count": null,
   "metadata": {},
   "outputs": [],
   "source": [
    "__author__ = \"Anders Logg <logg@simula.no>\"\n",
    "__date__ = \"2012-01-19\"\n",
    "__copyright__ = \"Copyright (C) 2012 Anders Logg\"\n",
    "__license__  = \"GNU LGPL version 3 or any later version\"\n",
    "\n",
    "# Modified by Marie E. Rognes\n",
    "\n",
    "# Last changed: 2012-06-25\n",
    "\n",
    "\n",
    "\n",
    "class Boundary(SubDomain):\n",
    "    def inside(self, x, on_boundary):\n",
    "        return on_boundary\n",
    "\n",
    "mesh = UnitSquareMesh(6, 4)\n",
    "V = FunctionSpace(mesh, \"Lagrange\", 1)\n",
    "\n",
    "u0 = Expression(\"1 + x[0]*x[0] + 2*x[1]*x[1]\", degree=2)\n",
    "boundary = \"on_boundary\"  # Alt 1\n",
    "#boundary = Boundary()    # Alt 2\n",
    "bc = DirichletBC(V, u0, boundary)\n",
    "\n",
    "f = Constant(-6.0)\n",
    "u = TrialFunction(V)\n",
    "v = TestFunction(V)\n",
    "a = inner(grad(u), grad(v))*dx\n",
    "L = f*v*dx\n",
    "\n",
    "u = Function(V)\n",
    "solve(a == L, u, bc)\n",
    "\n",
    "plot(u)\n",
    "pylab.show()\n",
    "interactive()\n"
   ]
  }
 ],
 "metadata": {},
 "nbformat": 4,
 "nbformat_minor": 0
}
